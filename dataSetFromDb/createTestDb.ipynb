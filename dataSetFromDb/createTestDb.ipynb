{
 "cells": [
  {
   "cell_type": "code",
   "execution_count": null,
   "metadata": {},
   "outputs": [],
   "source": [
    "import sqlite3\n",
    "import numpy as np\n",
    "from datetime import datetime, timedelta\n",
    "\n",
    "conn = sqlite3.connect('testDb.sqlite')\n",
    "cur = conn.cursor()"
   ]
  },
  {
   "cell_type": "markdown",
   "metadata": {},
   "source": [
    "Create tables for test:"
   ]
  },
  {
   "cell_type": "code",
   "execution_count": null,
   "metadata": {},
   "outputs": [],
   "source": [
    "cur.executescript(\"\"\"\n",
    "\n",
    "Drop Table If Exists Timestamp;\n",
    "Create Table Timestamp(\n",
    "    id Integer Primary Key Not Null,\n",
    "    timestamp timestamp Unique\n",
    ");\n",
    "\n",
    "Drop Table If Exists Tag;\n",
    "Create Table Tag(\n",
    "    id Integer Primary Key Not Null,\n",
    "    name Text Unique,\n",
    "    comment Text,\n",
    "    unit Text\n",
    ");\n",
    "\n",
    "Drop Table If Exists Data;\n",
    "Create Table Data(\n",
    "    id Integer Primary Key Not Null,\n",
    "    value float,\n",
    "    timestamp_id Integer,\n",
    "    tag_id Integer,\n",
    "    Unique(timestamp_id, tag_id)    \n",
    ");\n",
    "\n",
    "Drop Table If Exists PreprocessMethod;\n",
    "Create Table PreprocessMethod(\n",
    "    id Integer Primary Key Not Null,\n",
    "    name Text Unique,\n",
    "    description Text\n",
    ");\n",
    "\n",
    "Drop Table If Exists PreprocessedTag;\n",
    "Create Table PreprocessedTag(\n",
    "    tag_id Integer Primary Key Not Null,\n",
    "    preprocess_method_id Integer,\n",
    "    source_tag_id Integer,\n",
    "    Unique(preprocess_method_id, source_tag_id)\n",
    ");\n",
    "\n",
    "Drop Table If Exists EventTag;\n",
    "Create Table EventTag(\n",
    "    tag_id Integer Primary Key Not Null\n",
    ");\n",
    "\n",
    "Drop Table If Exists NormalizeParameter;\n",
    "Create Table NormalizeParameter(\n",
    "    tag_id Integer Primary Key Not Null,\n",
    "    mu float,\n",
    "    sd float\n",
    ");\n",
    "\n",
    "\"\"\")"
   ]
  },
  {
   "cell_type": "markdown",
   "metadata": {},
   "source": [
    "* PV[i], i = 0:123\n",
    "* MV[j], j = 0:12\n",
    "* EV[k], k = 0:3\n",
    "* PreprocessMethod[l], l = 0:3\n",
    "* Timestamp[t], t = 0:1000"
   ]
  },
  {
   "cell_type": "code",
   "execution_count": null,
   "metadata": {},
   "outputs": [],
   "source": [
    "nSample = 2**10\n",
    "nPv = 123\n",
    "nMv = 20\n",
    "nEv = 7\n",
    "nPreprocess = 3"
   ]
  },
  {
   "cell_type": "code",
   "execution_count": null,
   "metadata": {},
   "outputs": [],
   "source": [
    "t0 = datetime.now()\n",
    "timestamp = np.array([t0 + timedelta(minutes = 5 *k1) for k1 in range(nSample) ]) # (*,)\n",
    "dataPv = np.random.randn(nSample, nPv) # (*, nPv)\n",
    "dataMv = np.random.randn(nSample, nMv) # (*, nMv)\n",
    "dataEv = np.random.randint(2, size = (nSample, nEv)).astype(np.float) # (*, nEv)\n",
    "dataPreprocessed = [\n",
    "    np.random.randn(nSample, nPv)\n",
    "        for k1 in range(nPreprocess)]\n",
    "\n",
    "dataPv[np.random.rand(*dataPv.shape) < 0.05] = np.nan\n",
    "dataMv[np.random.rand(*dataMv.shape) < 0.05] = np.nan\n",
    "dataEv[np.random.rand(*dataEv.shape) < 0.05] = np.nan\n",
    "for k1 in range(nPreprocess):\n",
    "    dataPreprocessed[k1][np.random.rand(*dataPreprocessed[k1].shape) < 0.05] = np.nan"
   ]
  },
  {
   "cell_type": "markdown",
   "metadata": {},
   "source": [
    "initialize timestamp table:"
   ]
  },
  {
   "cell_type": "code",
   "execution_count": null,
   "metadata": {},
   "outputs": [],
   "source": [
    "for t in range(nSample):\n",
    "    cur.execute(\"\"\"\n",
    "        Insert Or Ignore Into Timestamp (\n",
    "            timestamp\n",
    "            ) values\n",
    "            (\n",
    "            ?\n",
    "            )\n",
    "    \"\"\", (timestamp[t],))    "
   ]
  },
  {
   "cell_type": "markdown",
   "metadata": {},
   "source": [
    "initialize tag table:"
   ]
  },
  {
   "cell_type": "code",
   "execution_count": null,
   "metadata": {},
   "outputs": [],
   "source": [
    "sql = \"\"\"Insert Or Ignore Into Tag(\n",
    "            name\n",
    "        ) values\n",
    "        (\n",
    "        ?\n",
    "        )\"\"\"\n",
    "\n",
    "\n",
    "for k1 in range(nPv):\n",
    "    cur.execute(sql, (\"PV%04d\" % (k1+1),))\n",
    "for k1 in range(nMv):\n",
    "    cur.execute(sql, (\"MV%04d\" % (k1+1),))\n",
    "for k1 in range(nEv):\n",
    "    cur.execute(sql, (\"EV%04d\" % (k1+1),))\n",
    "for k2 in range(nPreprocess):\n",
    "    for k1 in range(nPv):\n",
    "        cur.execute(sql, (\"Preprocessed%04dPV%04d\" % (k2+1, k1+1),))"
   ]
  },
  {
   "cell_type": "markdown",
   "metadata": {},
   "source": [
    "initialize data table:"
   ]
  },
  {
   "cell_type": "code",
   "execution_count": null,
   "metadata": {},
   "outputs": [],
   "source": [
    "sql1 = \"\"\"\n",
    "    Insert Or Ignore Into Data(\n",
    "        timestamp_id\n",
    "        , tag_id\n",
    "        , value\n",
    "    ) values (\n",
    "        ?\n",
    "        ,?\n",
    "        ,?)\n",
    "\"\"\"\n",
    "\n",
    "sql2 = \"\"\"\n",
    "    Select id From Timestamp where timestamp = ? Limit 1\n",
    "    \"\"\"\n",
    "sql3 = \"\"\"\n",
    "    Select id From Tag Where name = ? Limit 1\n",
    "    \"\"\"\n",
    "\n",
    "for (nn, prefix, data) in [\n",
    "    (nPv, \"PV\", dataPv)\n",
    "    , (nMv, \"MV\", dataMv)\n",
    "    , (nEv, \"EV\", dataEv)\n",
    "    , (nPv, \"Preprocessed0001PV\", dataPreprocessed[0])\n",
    "    , (nPv, \"Preprocessed0002PV\", dataPreprocessed[1])\n",
    "    , (nPv, \"Preprocessed0003PV\", dataPreprocessed[2])\n",
    "    ]:\n",
    "\n",
    "    for k1 in range(nn):\n",
    "        for k2 in range(nSample):\n",
    "            cur.execute(sql2, (timestamp[k2],))\n",
    "            timestamp_id, = cur.fetchone()\n",
    "\n",
    "            cur.execute(sql3, (prefix + \"%04d\" % (k1+1),))\n",
    "            tag_id, = cur.fetchone()\n",
    "\n",
    "            val = None if np.isnan(data[k2, k1]) else float(data[k2, k1])\n",
    "\n",
    "            cur.execute(sql1, (timestamp_id, tag_id, val))"
   ]
  },
  {
   "cell_type": "markdown",
   "metadata": {},
   "source": [
    "initialize table: PreprocessMethod"
   ]
  },
  {
   "cell_type": "code",
   "execution_count": null,
   "metadata": {},
   "outputs": [],
   "source": [
    "sql = \"\"\"\n",
    "Insert or Ignore Into PreprocessMethod(\n",
    "    name \n",
    "    )\n",
    "    values\n",
    "    (\n",
    "    ?)\n",
    "\"\"\"\n",
    "\n",
    "for k2 in range(nPreprocess):\n",
    "    cur.execute(sql, (\"Preprocess%04d\" % (k2+1),))"
   ]
  },
  {
   "cell_type": "markdown",
   "metadata": {},
   "source": [
    "initialize table: PreprocessedTag"
   ]
  },
  {
   "cell_type": "code",
   "execution_count": null,
   "metadata": {},
   "outputs": [],
   "source": [
    "sql1 = \"\"\"\n",
    "    Insert Or Ignore Into PreprocessedTag(\n",
    "        tag_id\n",
    "        , preprocess_method_id\n",
    "        , source_tag_id\n",
    "        ) \n",
    "    values\n",
    "    (\n",
    "        ?\n",
    "        ,?\n",
    "        ,?\n",
    "        )\"\"\"\n",
    "\n",
    "sql2 = \"\"\"\n",
    "    Select \n",
    "        id\n",
    "        From Tag\n",
    "        Where name = ?\n",
    "    \"\"\"\n",
    "\n",
    "sql3 = \"\"\"\n",
    "    Select\n",
    "        id\n",
    "        From PreprocessMethod\n",
    "        Where name = ?\n",
    "\"\"\"\n",
    "\n",
    "for k1 in range(nPv):\n",
    "    for k2 in range(nPreprocess):\n",
    "        \n",
    "        source_tag = \"PV%04d\" % (k1+1)\n",
    "        preprocessMethod = \"Preprocess%04d\" % (k2+1)\n",
    "        tag = \"Preprocessed%04d\" % (k2+1) + source_tag\n",
    "        \n",
    "        cur.execute(sql2, (tag,))\n",
    "        tag_id, = cur.fetchone()\n",
    "        cur.execute(sql2, (source_tag,))\n",
    "        source_tag_id, = cur.fetchone()\n",
    "\n",
    "        cur.execute(sql3, (preprocessMethod,))\n",
    "        preprocess_method_id, = cur.fetchone()\n",
    "        cur.execute(sql1, (tag_id, preprocess_method_id, source_tag_id,))"
   ]
  },
  {
   "cell_type": "markdown",
   "metadata": {},
   "source": [
    "initialize table: EventTag"
   ]
  },
  {
   "cell_type": "code",
   "execution_count": null,
   "metadata": {},
   "outputs": [],
   "source": [
    "for k1 in range(nEv):\n",
    "\n",
    "    cur.execute(\"\"\"\n",
    "    Select \n",
    "        id \n",
    "        From Tag\n",
    "        Where name = ?\n",
    "    \"\"\", (\"EV%04d\" % (k1+1),))\n",
    "\n",
    "    tag_id, = cur.fetchone()\n",
    "\n",
    "    cur.execute(\"\"\"\n",
    "    Insert Or Ignore Into EventTag\n",
    "        (tag_id) \n",
    "        values \n",
    "        (?)\n",
    "    \"\"\", (tag_id,))"
   ]
  },
  {
   "cell_type": "markdown",
   "metadata": {},
   "source": [
    "initialize table :NormalizeParameter"
   ]
  },
  {
   "cell_type": "code",
   "execution_count": null,
   "metadata": {},
   "outputs": [],
   "source": [
    "for k1 in range(nPv):\n",
    "\n",
    "    cur.execute(\"\"\"\n",
    "    Select \n",
    "        id \n",
    "        From Tag\n",
    "        Where name = ?\n",
    "    \"\"\", (\"PV%04d\" % (k1+1),))\n",
    "\n",
    "    tag_id, = cur.fetchone()\n",
    "\n",
    "    cur.execute(\"\"\"\n",
    "    Insert Or Ignore Into NormalizeParameter\n",
    "        (tag_id, mu, sd) \n",
    "        values \n",
    "        (?, ?, ?)\n",
    "    \"\"\", (tag_id, *np.random.rand(2)))"
   ]
  },
  {
   "cell_type": "code",
   "execution_count": null,
   "metadata": {},
   "outputs": [],
   "source": [
    "conn.commit()"
   ]
  }
 ],
 "metadata": {
  "kernelspec": {
   "display_name": "Python 3",
   "language": "python",
   "name": "python3"
  },
  "language_info": {
   "codemirror_mode": {
    "name": "ipython",
    "version": 3
   },
   "file_extension": ".py",
   "mimetype": "text/x-python",
   "name": "python",
   "nbconvert_exporter": "python",
   "pygments_lexer": "ipython3",
   "version": "3.7.5"
  }
 },
 "nbformat": 4,
 "nbformat_minor": 2
}
