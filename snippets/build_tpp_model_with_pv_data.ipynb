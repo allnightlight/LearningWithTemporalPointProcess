{
 "cells": [
  {
   "cell_type": "code",
   "execution_count": null,
   "metadata": {},
   "outputs": [],
   "source": [
    "import sys\n",
    "import os\n",
    "import numpy as np\n",
    "import itertools\n",
    "\n",
    "sys.path.append(\"..\")\n",
    "sys.path.append(\"../framework\")"
   ]
  },
  {
   "cell_type": "code",
   "execution_count": null,
   "metadata": {},
   "outputs": [],
   "source": [
    "from history import History"
   ]
  },
  {
   "cell_type": "markdown",
   "metadata": {},
   "source": [
    "## S100. Some pre-required process"
   ]
  },
  {
   "cell_type": "markdown",
   "metadata": {},
   "source": [
    "### SS110. Create some folders:"
   ]
  },
  {
   "cell_type": "code",
   "execution_count": null,
   "metadata": {},
   "outputs": [],
   "source": [
    "if not os.path.exists('./tmp'):\n",
    "    os.mkdir('./tmp')"
   ]
  },
  {
   "cell_type": "markdown",
   "metadata": {},
   "source": [
    "### SS120. Prepare a test data set:"
   ]
  },
  {
   "cell_type": "markdown",
   "metadata": {},
   "source": [
    "define dimensions"
   ]
  },
  {
   "cell_type": "code",
   "execution_count": null,
   "metadata": {},
   "outputs": [],
   "source": [
    "nSample = 2**10\n",
    "nDelta, nPv = np.random.randint(2, 2**3, size=(2,))"
   ]
  },
  {
   "cell_type": "markdown",
   "metadata": {},
   "source": [
    "a event dataset"
   ]
  },
  {
   "cell_type": "code",
   "execution_count": null,
   "metadata": {},
   "outputs": [],
   "source": [
    "dataRaw = np.random.randint(2, size=(nSample, nDelta))\n",
    "filePath = \"./dataDelta.csv\"\n",
    "with open(filePath, \"w\") as fp:\n",
    "    fp.write(\"#\\n\")\n",
    "    for row in dataRaw:                \n",
    "        fp.write(\",\".join([str(cell) for cell in row]) + \"\\n\")"
   ]
  },
  {
   "cell_type": "markdown",
   "metadata": {},
   "source": [
    "a pv dataset"
   ]
  },
  {
   "cell_type": "code",
   "execution_count": null,
   "metadata": {},
   "outputs": [],
   "source": [
    "dataRaw = np.random.randn(nSample, nPv)\n",
    "filePath = \"./dataPv.csv\"\n",
    "with open(filePath, \"w\") as fp:\n",
    "    fp.write(\"#\\n\")\n",
    "    for row in dataRaw:                \n",
    "        fp.write(\",\".join([str(cell) for cell in row]) + \"\\n\")"
   ]
  },
  {
   "cell_type": "markdown",
   "metadata": {},
   "source": [
    "# S200 A build process:"
   ]
  },
  {
   "cell_type": "markdown",
   "metadata": {},
   "source": [
    "### SS210 Define the build parameterss:"
   ]
  },
  {
   "cell_type": "markdown",
   "metadata": {},
   "source": [
    "see builderTpp, please."
   ]
  },
  {
   "cell_type": "code",
   "execution_count": null,
   "metadata": {},
   "outputs": [],
   "source": [
    "from tppWithPv.builderTpp import BuilderTpp"
   ]
  },
  {
   "cell_type": "markdown",
   "metadata": {},
   "source": [
    "### SS220 Run a build process:"
   ]
  },
  {
   "cell_type": "code",
   "execution_count": null,
   "metadata": {},
   "outputs": [],
   "source": [
    "history = History(\"historyTpp.sqlite\")\n",
    "builder = BuilderTpp(history)\n",
    "log = builder.build()"
   ]
  },
  {
   "cell_type": "code",
   "execution_count": null,
   "metadata": {},
   "outputs": [],
   "source": [
    "for (agentId, environmentId, trainerId) in log:\n",
    "    print(\"agentId = %04d environmentId = %04d trainerId = %04d\" % (agentId, environmentId, trainerId))"
   ]
  },
  {
   "cell_type": "code",
   "execution_count": null,
   "metadata": {},
   "outputs": [],
   "source": []
  }
 ],
 "metadata": {
  "kernelspec": {
   "display_name": "Python 3",
   "language": "python",
   "name": "python3"
  },
  "language_info": {
   "codemirror_mode": {
    "name": "ipython",
    "version": 3
   },
   "file_extension": ".py",
   "mimetype": "text/x-python",
   "name": "python",
   "nbconvert_exporter": "python",
   "pygments_lexer": "ipython3",
   "version": "3.7.5"
  }
 },
 "nbformat": 4,
 "nbformat_minor": 2
}
