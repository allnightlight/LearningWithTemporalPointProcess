{
 "cells": [
  {
   "cell_type": "code",
   "execution_count": null,
   "metadata": {},
   "outputs": [],
   "source": [
    "import sys\n",
    "import os\n",
    "import numpy as np\n",
    "import matplotlib.pylab as plt\n",
    "import itertools\n",
    "import torch\n",
    "\n",
    "sys.path.append(\"..\")\n",
    "sys.path.append(\"../framework\")"
   ]
  },
  {
   "cell_type": "code",
   "execution_count": null,
   "metadata": {},
   "outputs": [],
   "source": [
    "from history import History\n",
    "from loader import Loader\n",
    "from util import drawColorMapOfEventProb"
   ]
  },
  {
   "cell_type": "code",
   "execution_count": null,
   "metadata": {},
   "outputs": [],
   "source": [
    "from tppWithPv.agentTpp import AgentFactoryTpp\n",
    "from tppWithPv.environmentTpp import EnvironmentFactoryTpp\n",
    "from tppWithPv.trainerTpp import TrainerFactoryTpp\n",
    "\n",
    "from tppWithPv.agentTpp import AgentHawkesWithPv\n",
    "from tppWithPv.environmentTpp import EventDataFeederWithPv\n",
    "from tppWithPv.trainerTpp import TrainerTppMLE"
   ]
  },
  {
   "cell_type": "markdown",
   "metadata": {},
   "source": [
    "## S100: Define the trainer ids to load"
   ]
  },
  {
   "cell_type": "code",
   "execution_count": null,
   "metadata": {},
   "outputs": [],
   "source": [
    "class LoaderTpp(Loader):\n",
    "\n",
    "    def iterateTrainId(self):\n",
    "        for trainerId in (1,2,3):\n",
    "            yield trainerId"
   ]
  },
  {
   "cell_type": "markdown",
   "metadata": {},
   "source": [
    "## S200: Analyze the result of trainings"
   ]
  },
  {
   "cell_type": "markdown",
   "metadata": {},
   "source": [
    "### SS210: define a loader of the trio (agent, environment, trainer) "
   ]
  },
  {
   "cell_type": "code",
   "execution_count": null,
   "metadata": {},
   "outputs": [],
   "source": [
    "history = History(\"historyTpp.sqlite\")\n",
    "agentFactoryTpp = AgentFactoryTpp()\n",
    "environmentFactoryTpp = EnvironmentFactoryTpp()\n",
    "trainerFactoryTpp = TrainerFactoryTpp()\n",
    "loader = LoaderTpp(history, agentFactoryTpp, environmentFactoryTpp, \\\n",
    "    trainerFactoryTpp)"
   ]
  },
  {
   "cell_type": "markdown",
   "metadata": {},
   "source": [
    "### SS220: check the learning curves for each training"
   ]
  },
  {
   "cell_type": "code",
   "execution_count": null,
   "metadata": {},
   "outputs": [],
   "source": [
    "def plotLearningCurve(loader):\n",
    "\n",
    "    fig = plt.gcf()\n",
    "    ax = fig.gca()\n",
    "    for k1, (agent, environment, trainer) in enumerate(loader.iterateHistory()):\n",
    "        timestamp, tbl = trainer.getTrainLog()\n",
    "        epoch, ll = zip(*tbl)\n",
    "        ax.plot(epoch, ll, label = \"#%d\" % (k1 + 1))\n",
    "    ax.set_xlabel('Epcoh')\n",
    "    ax.set_ylabel('LogLikelihood')\n",
    "    ax.legend()"
   ]
  },
  {
   "cell_type": "code",
   "execution_count": null,
   "metadata": {},
   "outputs": [],
   "source": [
    "fig = plt.figure()\n",
    "plotLearningCurve(loader)\n",
    "plt.tight_layout()\n",
    "plt.legend()\n",
    "pass"
   ]
  },
  {
   "cell_type": "markdown",
   "metadata": {},
   "source": [
    "### SS230: check the estimation results for each model"
   ]
  },
  {
   "cell_type": "code",
   "execution_count": null,
   "metadata": {},
   "outputs": [],
   "source": [
    "def plotEstimationOnPatchColor(agent, environment, idxSelected):\n",
    "\n",
    "    Nseq = environment.Nseq\n",
    "    Ndelta = environment.eventDataSet.getNdelta()\n",
    "    Npv = environment.pvDataSet.getNpv()\n",
    "\n",
    "    E, Pv = environment.getTrainData()\n",
    "    _E = torch.tensor(E[:, idxSelected, None, :]) # (Nseq, 1, Ndelta)\n",
    "    _Pv = torch.tensor(Pv[:, idxSelected, None, :]) # (Nseq, 1, Npv)\n",
    "\n",
    "    _I = agent(_E, _Pv)\n",
    "\n",
    "    I = _I.data.numpy() # (Nseq+1, 1, Ndelta)\n",
    "\n",
    "    xTickLabel = [\"\" for _ in range(Nseq)]\n",
    "    yDeltaTickLabel = [\"Delta #%d\" % k1 for k1 in range(Ndelta)]\n",
    "    yPvTickLabel = [\"Pv #%d\" % k1 for k1 in range(Npv)]\n",
    "\n",
    "    F_NULL = np.zeros((Nseq, Npv)) # (Nseq, Npv)\n",
    "\n",
    "    fig = plt.gcf()\n",
    "    #\n",
    "    ax = fig.add_subplot(2,1,1)\n",
    "    drawColorMapOfEventProb(E[:,idxSelected,:], I[:-1,0,:], xTickLabel, yDeltaTickLabel, None, cmap = \"Reds\")\n",
    "    #\n",
    "    ax = fig.add_subplot(2,1,2)\n",
    "    drawColorMapOfEventProb(F_NULL, Pv[:,idxSelected,:], xTickLabel, yPvTickLabel, None, cmap = \"Blues\")"
   ]
  },
  {
   "cell_type": "code",
   "execution_count": null,
   "metadata": {},
   "outputs": [],
   "source": [
    "for k1, (agent, environment, trainer) in enumerate(loader.iterateHistory()):    \n",
    "    idxSelected = np.random.choice(environment.getAvailableIndex())\n",
    "    fig = plt.figure()\n",
    "    plotEstimationOnPatchColor(agent, environment, idxSelected)\n",
    "    plt.tight_layout()"
   ]
  }
 ],
 "metadata": {
  "kernelspec": {
   "display_name": "Python 3",
   "language": "python",
   "name": "python3"
  },
  "language_info": {
   "codemirror_mode": {
    "name": "ipython",
    "version": 3
   },
   "file_extension": ".py",
   "mimetype": "text/x-python",
   "name": "python",
   "nbconvert_exporter": "python",
   "pygments_lexer": "ipython3",
   "version": "3.7.5"
  }
 },
 "nbformat": 4,
 "nbformat_minor": 2
}
